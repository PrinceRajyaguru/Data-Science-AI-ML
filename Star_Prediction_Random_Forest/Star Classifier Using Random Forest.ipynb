{
 "cells": [
  {
   "cell_type": "markdown",
   "metadata": {},
   "source": [
    "# Star Classification using Random Forest\n",
    "This notebook demonstrates the process of building a machine learning model to classify stars based on spectral types using the Random Forest algorithm. We'll cover data loading, preprocessing, model building, and evaluation."
   ]
  },
  {
   "cell_type": "code",
   "execution_count": 1,
   "metadata": {},
   "outputs": [],
   "source": [
    "# Import necessary libraries\n",
    "import pandas as pd\n",
    "import matplotlib.pyplot as plt\n",
    "from sklearn.preprocessing import LabelEncoder\n",
    "from sklearn.impute import SimpleImputer\n",
    "from sklearn.model_selection import train_test_split, GridSearchCV\n",
    "from sklearn.ensemble import RandomForestClassifier\n",
    "from sklearn.metrics import accuracy_score, classification_report, confusion_matrix"
   ]
  },
  {
   "cell_type": "markdown",
   "metadata": {},
   "source": [
    "## Load the data\n",
    "We'll start by loading the dataset and displaying some basic information about it."
   ]
  },
  {
   "cell_type": "code",
   "execution_count": 2,
   "metadata": {},
   "outputs": [],
   "source": [
    "# Load the data\n",
    "data_path = 'dataGaia_AB_train.csv'\n",
    "\n",
    "# Read the CSV files\n",
    "data = pd.read_csv(data_path)"
   ]
  },
  {
   "cell_type": "markdown",
   "metadata": {},
   "source": [
    "### Display basic information about the dataset"
   ]
  },
  {
   "cell_type": "code",
   "execution_count": 3,
   "metadata": {},
   "outputs": [
    {
     "name": "stdout",
     "output_type": "stream",
     "text": [
      "Data Info:\n",
      "<class 'pandas.core.frame.DataFrame'>\n",
      "RangeIndex: 148538 entries, 0 to 148537\n",
      "Data columns (total 29 columns):\n",
      " #   Column      Non-Null Count   Dtype  \n",
      "---  ------      --------------   -----  \n",
      " 0   ID          148538 non-null  int64  \n",
      " 1   Unnamed: 0  148538 non-null  int64  \n",
      " 2   RA_ICRS     148538 non-null  float64\n",
      " 3   DE_ICRS     148538 non-null  float64\n",
      " 4   Source      148538 non-null  float64\n",
      " 5   Plx         148538 non-null  float64\n",
      " 6   PM          148538 non-null  float64\n",
      " 7   pmRA        148538 non-null  float64\n",
      " 8   pmDE        148538 non-null  float64\n",
      " 9   Gmag        148538 non-null  float64\n",
      " 10  e_Gmag      148538 non-null  float64\n",
      " 11  BPmag       148538 non-null  float64\n",
      " 12  e_BPmag     148538 non-null  float64\n",
      " 13  RPmag       148538 non-null  float64\n",
      " 14  e_RPmag     148538 non-null  float64\n",
      " 15  GRVSmag     84484 non-null   float64\n",
      " 16  e_GRVSmag   84484 non-null   float64\n",
      " 17  BP-RP       148538 non-null  float64\n",
      " 18  BP-G        148538 non-null  float64\n",
      " 19  G-RP        148538 non-null  float64\n",
      " 20  pscol       4853 non-null    float64\n",
      " 21  Teff        148538 non-null  float64\n",
      " 22  Dist        148538 non-null  float64\n",
      " 23  Rad         148538 non-null  float64\n",
      " 24  Lum-Flame   145543 non-null  float64\n",
      " 25  Mass-Flame  135987 non-null  float64\n",
      " 26  Age-Flame   110522 non-null  float64\n",
      " 27  z-Flame     145543 non-null  float64\n",
      " 28  SpType-ELS  148538 non-null  object \n",
      "dtypes: float64(26), int64(2), object(1)\n",
      "memory usage: 32.9+ MB\n"
     ]
    }
   ],
   "source": [
    "print(\"Data Info:\")\n",
    "data.info()"
   ]
  },
  {
   "cell_type": "markdown",
   "metadata": {},
   "source": [
    "### Summary statistics"
   ]
  },
  {
   "cell_type": "code",
   "execution_count": 4,
   "metadata": {},
   "outputs": [
    {
     "name": "stdout",
     "output_type": "stream",
     "text": [
      "\n",
      "Summary Statistics:\n",
      "                 ID     Unnamed: 0        RA_ICRS        DE_ICRS  \\\n",
      "count  148538.00000  148538.000000  148538.000000  148538.000000   \n",
      "mean    92751.47536   46668.991416     124.353753      41.767256   \n",
      "std     53601.34516   27299.507297     115.895758      23.823111   \n",
      "min         1.00000       0.000000       0.000345     -39.993690   \n",
      "25%     46356.25000   23144.250000      35.904057      33.489786   \n",
      "50%     92787.50000   46413.500000      77.449781      47.975644   \n",
      "75%    139134.75000   69605.750000     249.607253      59.740895   \n",
      "max    185672.00000   99999.000000     359.997541      89.774031   \n",
      "\n",
      "             Source            Plx             PM           pmRA  \\\n",
      "count  1.485380e+05  148538.000000  148538.000000  148538.000000   \n",
      "mean   1.161447e+18       0.940455       4.459746      -0.524399   \n",
      "std    1.005752e+18       1.206465       6.489142       5.682385   \n",
      "min    3.030000e+13      -5.014100       0.009000    -439.836000   \n",
      "25%    4.190000e+17       0.291700       1.375000      -2.154000   \n",
      "50%    5.150000e+17       0.575300       2.671000      -0.673000   \n",
      "75%    2.030000e+18       1.217800       5.400000       0.567750   \n",
      "max    3.130000e+18      68.001000     489.164000     178.977000   \n",
      "\n",
      "                pmDE           Gmag  ...           BP-G           G-RP  \\\n",
      "count  148538.000000  148538.000000  ...  148538.000000  148538.000000   \n",
      "mean       -2.012533      13.097992  ...       0.288080       0.438600   \n",
      "std         5.038219       2.198870  ...       0.199634       0.227970   \n",
      "min      -214.071000       2.821990  ...      -0.429089      -0.367105   \n",
      "25%        -3.258000      11.550700  ...       0.146889       0.272552   \n",
      "50%        -1.111000      13.144079  ...       0.242661       0.410799   \n",
      "75%        -0.161000      14.799377  ...       0.391389       0.594428   \n",
      "max       203.597000      17.648483  ...       2.364899       1.397652   \n",
      "\n",
      "             pscol           Teff           Dist            Rad  \\\n",
      "count  4853.000000  148538.000000  148538.000000  148538.000000   \n",
      "mean      1.602479    9588.528320    2342.311022       2.829017   \n",
      "std       0.086156    2397.641368    2191.651912       1.551902   \n",
      "min       0.819300    4485.100000      14.775400       0.527000   \n",
      "25%       1.553700    7736.300000     820.714325       1.899700   \n",
      "50%       1.621200    9395.450000    1736.246050       2.407700   \n",
      "75%       1.662100   10397.800000    3392.107000       3.300575   \n",
      "max       1.977500   41218.400000   33828.895000      71.024800   \n",
      "\n",
      "           Lum-Flame     Mass-Flame      Age-Flame        z-Flame  \n",
      "count  145543.000000  135987.000000  110522.000000  145543.000000  \n",
      "mean       99.374063       2.439773       0.627580       0.535371  \n",
      "std       257.766395       0.818048       0.352305       0.161399  \n",
      "min         0.235342       0.726000       0.200000       0.068180  \n",
      "25%        15.567123       1.853000       0.333000       0.438957  \n",
      "50%        33.223225       2.267000       0.521000       0.510321  \n",
      "75%        77.832000       2.739000       0.896000       0.599231  \n",
      "max      3498.170000       7.476000      13.263000       1.589762  \n",
      "\n",
      "[8 rows x 28 columns]\n"
     ]
    }
   ],
   "source": [
    "print(\"\\nSummary Statistics:\")\n",
    "print(data.describe())"
   ]
  },
  {
   "cell_type": "markdown",
   "metadata": {},
   "source": [
    "### Checking for missing values"
   ]
  },
  {
   "cell_type": "code",
   "execution_count": 5,
   "metadata": {},
   "outputs": [
    {
     "name": "stdout",
     "output_type": "stream",
     "text": [
      "\n",
      "Missing Values:\n",
      "GRVSmag        64054\n",
      "e_GRVSmag      64054\n",
      "pscol         143685\n",
      "Lum-Flame       2995\n",
      "Mass-Flame     12551\n",
      "Age-Flame      38016\n",
      "z-Flame         2995\n",
      "dtype: int64\n"
     ]
    }
   ],
   "source": [
    "missing_values = data.isnull().sum()\n",
    "print(\"\\nMissing Values:\")\n",
    "print(missing_values[missing_values > 0])"
   ]
  },
  {
   "cell_type": "markdown",
   "metadata": {},
   "source": [
    "## Data Visualization\n",
    "Let's visualize the distribution of the target variable 'SpType-ELS'."
   ]
  },
  {
   "cell_type": "code",
   "execution_count": 6,
   "metadata": {},
   "outputs": [
    {
     "data": {
      "image/png": "[encoded data removed]",
      "text/plain": [
       "<Figure size 1000x600 with 1 Axes>"
      ]
     },
     "metadata": {},
     "output_type": "display_data"
    }
   ],
   "source": [
    "# Distribution of the target variable 'SpType-ELS'\n",
    "plt.figure(figsize=(10, 6))\n",
    "data['SpType-ELS'].value_counts().plot(kind='bar', title='Distribution of Spectral Types')\n",
    "plt.xlabel('Spectral Type')\n",
    "plt.ylabel('Count')\n",
    "plt.show()"
   ]
  },
  {
   "cell_type": "markdown",
   "metadata": {},
   "source": [
    "## Data Preprocessing\n",
    "We'll drop non-essential columns, fill missing values, and encode the target variable."
   ]
  },
  {
   "cell_type": "code",
   "execution_count": 7,
   "metadata": {},
   "outputs": [
    {
     "name": "stdout",
     "output_type": "stream",
     "text": [
      "\n",
      "Preprocessed Data:\n",
      "     RA_ICRS   DE_ICRS        Source      Plx      PM    pmRA    pmDE  \\\n",
      "0  44.375187  2.895901  1.400000e+15   1.8937  16.954   7.031 -15.427   \n",
      "1  42.959304  2.920459  1.550000e+15   2.9732   2.528   1.795   1.780   \n",
      "2  44.031079  3.203683  1.610000e+15   2.2337  10.776  -3.151 -10.305   \n",
      "3  45.463599  3.138095  1.750000e+15   4.0179  10.053   1.828   9.885   \n",
      "4  43.784164  3.486814  2.060000e+15  11.6458  32.355  29.688 -12.863   \n",
      "\n",
      "        Gmag    e_Gmag      BPmag  ...      G-RP   pscol    Teff      Dist  \\\n",
      "0  10.369156  0.002801  10.441856  ...  0.163792  1.6212  9348.7  679.7121   \n",
      "1  10.038978  0.002774  10.212755  ...  0.304139  1.6212  7520.7  339.8108   \n",
      "2   9.810181  0.002786  10.008457  ...  0.338961  1.5956  7052.3  433.9715   \n",
      "3   8.163041  0.002800   8.197672  ...  0.091842  1.6212  9982.8  251.2483   \n",
      "4   6.855547  0.002779   6.993539  ...  0.257051  1.6212  7192.3   85.7073   \n",
      "\n",
      "      Rad  Lum-Flame  Mass-Flame  Age-Flame   z-Flame  SpType-ELS  \n",
      "0  2.4642  25.817343       2.157      0.336  0.638083           0  \n",
      "1  1.9321  10.527038       1.688      1.033  0.507551           0  \n",
      "2  2.9735  20.801886       1.923      1.124  0.368294           0  \n",
      "3  2.2829  45.868046       2.447      0.320  0.509338           0  \n",
      "4  2.0194   9.909233       1.647      1.288  0.459583           0  \n",
      "\n",
      "[5 rows x 27 columns]\n"
     ]
    }
   ],
   "source": [
    "# Drop non-essential columns\n",
    "data = data.drop(columns=['ID', 'Unnamed: 0'])\n",
    "\n",
    "# Fill missing values\n",
    "imputer = SimpleImputer(strategy='median')\n",
    "data_imputed = imputer.fit_transform(data.drop(columns=['SpType-ELS']))\n",
    "\n",
    "# Encode target variable\n",
    "label_encoder = LabelEncoder()\n",
    "data['SpType-ELS'] = label_encoder.fit_transform(data['SpType-ELS'])\n",
    "\n",
    "# Create the final DataFrame\n",
    "data_preprocessed = pd.DataFrame(data_imputed, columns=data.columns[:-1])\n",
    "data_preprocessed['SpType-ELS'] = data['SpType-ELS']\n",
    "\n",
    "# Display the first few rows of the preprocessed data\n",
    "print(\"\\nPreprocessed Data:\")\n",
    "print(data_preprocessed.head())"
   ]
  },
  {
   "cell_type": "markdown",
   "metadata": {},
   "source": [
    "## Model Building and Hyperparameter Tuning\n",
    "We'll split the data into training and testing sets, define the model, perform hyperparameter tuning using GridSearchCV, and evaluate the model."
   ]
  },
  {
   "cell_type": "code",
   "execution_count": 8,
   "metadata": {},
   "outputs": [],
   "source": [
    "# Split the data\n",
    "X = data_preprocessed.drop(columns=['SpType-ELS'])\n",
    "y = data_preprocessed['SpType-ELS']\n",
    "X_train, X_test, y_train, y_test = train_test_split(X, y, test_size=0.2, random_state=42)"
   ]
  },
  {
   "cell_type": "code",
   "execution_count": 9,
   "metadata": {},
   "outputs": [
    {
     "name": "stdout",
     "output_type": "stream",
     "text": [
      "Fitting 3 folds for each of 27 candidates, totalling 81 fits\n"
     ]
    }
   ],
   "source": [
    "# Define the model\n",
    "model = RandomForestClassifier(random_state=42)\n",
    "\n",
    "# Define the parameter grid\n",
    "param_grid = {\n",
    "    'n_estimators': [100, 200, 300],\n",
    "    'max_depth': [10, 20, 30],\n",
    "    'min_samples_split': [2, 5, 10]\n",
    "}\n",
    "\n",
    "# Perform GridSearchCV\n",
    "grid_search = GridSearchCV(estimator=model, param_grid=param_grid, cv=3, n_jobs=-1, verbose=2)\n",
    "grid_search.fit(X_train, y_train)\n",
    "\n",
    "# Get the best parameters and best model\n",
    "best_params = grid_search.best_params_\n",
    "best_model = grid_search.best_estimator_"
   ]
  },
  {
   "cell_type": "markdown",
   "metadata": {},
   "source": [
    "### Evaluate the model"
   ]
  },
  {
   "cell_type": "code",
   "execution_count": 10,
   "metadata": {},
   "outputs": [
    {
     "name": "stdout",
     "output_type": "stream",
     "text": [
      "\n",
      "Best Parameters:\n",
      "{'max_depth': 20, 'min_samples_split': 5, 'n_estimators': 300}\n",
      "\n",
      "Model Accuracy:\n",
      "0.9970041739598762\n"
     ]
    }
   ],
   "source": [
    "y_pred = best_model.predict(X_test)\n",
    "accuracy = accuracy_score(y_test, y_pred)\n",
    "\n",
    "print(\"\\nBest Parameters:\")\n",
    "print(best_params)\n",
    "print(\"\\nModel Accuracy:\")\n",
    "print(accuracy)\n",
    "\n",
    "# Best Parameters:\n",
    "# {'max_depth': 20, 'min_samples_split': 5, 'n_estimators': 300}"
   ]
  },
  {
   "cell_type": "code",
   "execution_count": 11,
   "metadata": {},
   "outputs": [
    {
     "name": "stdout",
     "output_type": "stream",
     "text": [
      "\n",
      "Classification Report:\n",
      "              precision    recall  f1-score   support\n",
      "\n",
      "           0       1.00      1.00      1.00     16044\n",
      "           1       1.00      1.00      1.00     13664\n",
      "\n",
      "    accuracy                           1.00     29708\n",
      "   macro avg       1.00      1.00      1.00     29708\n",
      "weighted avg       1.00      1.00      1.00     29708\n",
      "\n"
     ]
    }
   ],
   "source": [
    "# Print classification report\n",
    "print(\"\\nClassification Report:\")\n",
    "print(classification_report(y_test, y_pred))"
   ]
  },
  {
   "cell_type": "code",
   "execution_count": 12,
   "metadata": {},
   "outputs": [
    {
     "name": "stdout",
     "output_type": "stream",
     "text": [
      "\n",
      "Confusion Matrix:\n",
      "[[15981    63]\n",
      " [   26 13638]]\n"
     ]
    }
   ],
   "source": [
    "# Print confusion matrix\n",
    "print(\"\\nConfusion Matrix:\")\n",
    "print(confusion_matrix(y_test, y_pred))"
   ]
  },
  {
   "cell_type": "markdown",
   "metadata": {},
   "source": [
    "## Conclusion\n",
    "In this notebook, we successfully built a Random Forest classifier to predict the spectral types of stars. Here are the key steps we followed:\n",
    "\n",
    "1. **Data Loading and Exploration**: We loaded the dataset and examined its structure and summary statistics.\n",
    "2. **Data Visualization**: We visualized the distribution of the target variable 'SpType-ELS'.\n",
    "3. **Data Preprocessing**: We handled missing values, dropped non-essential columns, and encoded the target variable.\n",
    "4. **Model Building and Hyperparameter Tuning**: We defined a Random Forest model, performed hyperparameter tuning using GridSearchCV, and selected the best model.\n",
    "5. **Model Evaluation**: We evaluated the model's performance using accuracy, classification report, and confusion matrix.\n",
    "\n",
    "The model achieved a good accuracy, and the classification report and confusion matrix provided insights into its performance across different spectral types. Further improvements can be made by experimenting with other machine learning algorithms or additional feature engineering.\n",
    "\n",
    "This process demonstrates a robust workflow for building and evaluating machine learning models for classification tasks."
   ]
  }
 ],
 "metadata": {
  "kernelspec": {
   "display_name": "Python 3 (ipykernel)",
   "language": "python",
   "name": "python3"
  },
  "language_info": {
   "codemirror_mode": {
    "name": "ipython",
    "version": 3
   },
   "file_extension": ".py",
   "mimetype": "text/x-python",
   "name": "python",
   "nbconvert_exporter": "python",
   "pygments_lexer": "ipython3",
   "version": "3.10.9"
  }
 },
 "nbformat": 4,
 "nbformat_minor": 4
}
